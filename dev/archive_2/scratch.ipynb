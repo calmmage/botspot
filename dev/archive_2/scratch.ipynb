{
 "cells": [
  {
   "cell_type": "code",
   "execution_count": null,
   "metadata": {},
   "outputs": [],
   "source": [
    "print(1)"
   ]
  },
  {
   "cell_type": "code",
   "execution_count": null,
   "metadata": {},
   "outputs": [],
   "source": [
    "def warn_once():\n",
    "    if not hasattr(warn_once, \"warned\"):\n",
    "        print(\"warned\")\n",
    "        warn_once.warned = True\n",
    "\n",
    "    print(\"main code\")\n",
    "\n",
    "\n",
    "# warn_once.warned = False\n",
    "\n",
    "warn_once()\n",
    "warn_once()\n",
    "warn_once()"
   ]
  },
  {
   "cell_type": "code",
   "execution_count": null,
   "metadata": {},
   "outputs": [],
   "source": ""
  },
  {
   "cell_type": "code",
   "execution_count": null,
   "metadata": {},
   "outputs": [],
   "source": [
    "print(1)"
   ]
  },
  {
   "cell_type": "code",
   "execution_count": null,
   "metadata": {},
   "outputs": [],
   "source": ""
  },
  {
   "cell_type": "code",
   "execution_count": null,
   "metadata": {},
   "outputs": [],
   "source": [
    "from dotenv import load_dotenv\n",
    "\n",
    "load_dotenv()\n",
    "# idea: compare structured output\n",
    "from typing import Optional\n",
    "\n",
    "# case 1: all info is present\n",
    "from pydantic import BaseModel\n",
    "\n",
    "system_message = (\n",
    "    \"You're unstructured checkin parsing assistant. You goal is to extract information from the user message and output it as a structured object.\"\n",
    "    \"if some of the mandatory fields are missing, include their names into the missing field as a list\"\n",
    ")\n",
    "\n",
    "message = \"\"\"\n",
    "Hello, this is Dan Pulido, I am writing from Washingtom to check-in.\n",
    "\"\"\"\n",
    "\n",
    "\n",
    "class CheckInData(BaseModel):\n",
    "    first_name: str\n",
    "    last_name: Optional[str]\n",
    "    location: str\n",
    "\n",
    "\n",
    "def test(message, Model):\n",
    "    print(\"Message:\", message)\n",
    "    # option 1: call calmlib\n",
    "    from calmlib.utils.llm_utils.gpt_utils import query_llm_structured\n",
    "\n",
    "    response_1 = query_llm_structured(\n",
    "        prompt=message,\n",
    "        model=\"gpt-4o-mini\",\n",
    "        output_schema=Model,\n",
    "        system=system_message,\n",
    "        engine=\"openai\",\n",
    "    )\n",
    "    print(\"response 1:\", response_1)\n",
    "    print()\n",
    "    # option 2: use litellm\n",
    "    from litellm import completion\n",
    "\n",
    "    response_2 = completion(\n",
    "        model=\"gpt-4o-mini\",\n",
    "        messages=[\n",
    "            {\"role\": \"system\", \"content\": system_message},\n",
    "            {\"role\": \"user\", \"content\": message},\n",
    "        ],\n",
    "        response_format=Model,\n",
    "    )\n",
    "    print(\"Response 2:\", response_2.choices[0].message.content)\n",
    "    print()\n",
    "    import json\n",
    "\n",
    "    item = Model(**json.loads(response_2.choices[0].message.content))\n",
    "    print(\"Item:\", item)"
   ]
  },
  {
   "cell_type": "code",
   "execution_count": null,
   "metadata": {},
   "outputs": [],
   "source": [
    "test(message, CheckInData)"
   ]
  },
  {
   "cell_type": "code",
   "execution_count": null,
   "metadata": {},
   "outputs": [],
   "source": [
    "message = \"\"\"\n",
    "secret password: 2462\n",
    "\"\"\"\n",
    "from typing import List\n",
    "\n",
    "\n",
    "class Response(BaseModel):\n",
    "    secret_password: str\n",
    "    secret_password_2: str\n",
    "    secret_password_3: Optional[str]\n",
    "    missing: List[str]\n",
    "    extra_mandatory_field: bool\n",
    "    extra_optional_field: Optional[bool]\n",
    "\n",
    "\n",
    "test(message, Response)"
   ]
  },
  {
   "cell_type": "code",
   "execution_count": null,
   "metadata": {},
   "outputs": [],
   "source": [
    "response_2.choices[0].message.content"
   ]
  },
  {
   "cell_type": "code",
   "execution_count": null,
   "metadata": {},
   "outputs": [],
   "source": [
    "# so, final - what do I want\n",
    "\n",
    "# command 1: just ... with structured output\n",
    "# command 2: handle the 'missing arguments' situation\n",
    "#  - unprocessed - part of the text that ... llm didn't use for forming a response\n",
    "#  - missing - mandatory field that doesn't have a value\n",
    "#  -"
   ]
  }
 ],
 "metadata": {
  "kernelspec": {
   "display_name": ".venv",
   "language": "python",
   "name": "python3"
  },
  "language_info": {
   "codemirror_mode": {
    "name": "ipython",
    "version": 3
   },
   "file_extension": ".py",
   "mimetype": "text/x-python",
   "name": "python",
   "nbconvert_exporter": "python",
   "pygments_lexer": "ipython3",
   "version": "3.11.10"
  }
 },
 "nbformat": 4,
 "nbformat_minor": 2
}
